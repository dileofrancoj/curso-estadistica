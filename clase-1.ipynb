{
 "cells": [
  {
   "cell_type": "markdown",
   "id": "9f77983a",
   "metadata": {},
   "source": [
    "# Introducción a la estadística"
   ]
  },
  {
   "cell_type": "markdown",
   "id": "9fe2e9a0",
   "metadata": {},
   "source": [
    "### Temas Clase 1:\n",
    "\n",
    "- Intro. a la Estadística\n",
    "- Áreas de la estadística\n",
    "- Exploración de datos\n",
    "- Organización y presentación de datos: Diagramas\n",
    "- Medidas de tendencia central\n",
    "\n",
    "### Repositorio: https://github.com/dileofrancoj/curso-estadistica"
   ]
  },
  {
   "cell_type": "markdown",
   "id": "d8339c70",
   "metadata": {},
   "source": [
    "La estadística es una ciencia que estudia la **variabilidad, colección, organización, análisis, interpretación, y presentación de los datos**, así como el proceso aleatorio que los genera siguiendo las leyes de la probabilidad.\n",
    "\n",
    "La estadística aplicada a las ciencias fácticas permite estudiar una **determinada población** a partir de la recopilación de información, **el análisis de datos y la interpretación de resultados**. Del mismo modo, también es una ciencia esencial para el estudio cuantitativo de los fenómenos de masa o colectivos."
   ]
  },
  {
   "cell_type": "markdown",
   "id": "1b1e56e6",
   "metadata": {},
   "source": [
    "## Áreas de la estadística\n",
    "\n",
    "### Descriptiva: \n",
    "Se dedica a la **descripción, visualización** y resumen de datos originados a partir de los fenómenos de estudio. Su objetivo es organizar y describir las características sobre un conjunto de datos con el propósito de facilitar interpretación.\n",
    "\n",
    "### Inferencial:\n",
    "Se dedica a la generación de los modelos y predicciones asociadas a los fenómenos en cuestión teniendo en cuenta la aleatoriedad de las observaciones."
   ]
  },
  {
   "cell_type": "markdown",
   "id": "d253f030",
   "metadata": {},
   "source": [
    "## Análisis exploratorio de datos\n",
    "\n",
    "Este análisis se basa en la estadística descriptiva. El objetivo es, a través de un conjunto de datos, extraer su **caracteristicas principales**. Debemos estudiar los datos antes de realizar supuestos y comenzar con nuestras hipotesis."
   ]
  },
  {
   "cell_type": "markdown",
   "id": "406f6187",
   "metadata": {},
   "source": [
    "## Tipos de datos\n",
    "\n",
    "### Cualitativo:\n",
    "Son las propiedades categóricas que pueden usarse para describir un ente. (Nacionalidad de una persona, tipo de fruta)\n",
    "\n",
    "### Cuantitativo:\n",
    "Representan una cantidad. Por ejemplo: presión arterial, pulsaciónes, etc.\n",
    "\n",
    "\n",
    "## Tipo de variables\n",
    "\n",
    "### Cualitativas nominales: \n",
    "Cuando los valores que toma la variable permiten clasificar a la población en categorías mutuamente excluyentes. Ej: Grupo sanguineo, estado civil.\n",
    "\n",
    "### Cualitativas ordinales:\n",
    "\n",
    "Los valores que toma la variable pueden ser ordenados. Ejemplo: Estado de un paciente que ingresa a un hospital (leve, grave, muy grave).\n",
    "Cabe aclarar que estas también pueden tener una escala determinada como las notas \"R\",\"B\",\"MB\". Estas son variables cualitativas ordinales a las que se les asocia un número\n",
    "\n",
    "### Cuantitativas discretas:\n",
    "Pueden tomar solo algunos valores de un determinado intervalo de los números reales. Ej: La cantidad de pacientes que ingresaron al hospital un día determinado. El sueldo de una persona sin centavos.\n",
    "\n",
    "### Cuantitativas continuas:\n",
    "Son continuas cuando pueden tomar todos los valores de un determinado intervalo de numeros reales. Ejemplo: Medición de volumen, longitud, dinero, altura.\n",
    "\n",
    "Ejercicio: **Clasificar las siguientes variables:**\n",
    "- barrio\n",
    "- estado civil\n",
    "- cantidad de hijos\n",
    "- peso \n",
    "- estatura\n",
    "- edad\n",
    "- grado de satisfacción con la carrera\n",
    "- cantidad de materias aprobadas del total de materias de la carrera\n",
    "- ocupación\n",
    "- ingreso."
   ]
  },
  {
   "cell_type": "markdown",
   "id": "cd18332d",
   "metadata": {},
   "source": [
    "## Organización y presentación de datos\n",
    "\n",
    "### Tablas\n",
    "\n",
    "Quizá la forma más intuitiva de presentar datos es mediante una tabla. A partir de esta, nosotros podremos generar elementos visuales para entender el conjunto de datos.\n",
    "\n",
    "Por ejemplo, si quisieramos visualizar el sexo de los estudiantes en un determinado curso, podríamos hacer un tabla con \"sexo\", \"código\", \"cantidad\". Estas columnas, de ahora en más serán nuestros **features**"
   ]
  },
  {
   "cell_type": "code",
   "execution_count": 41,
   "id": "9a9a85af",
   "metadata": {},
   "outputs": [
    {
     "data": {
      "text/html": [
       "<div>\n",
       "<style scoped>\n",
       "    .dataframe tbody tr th:only-of-type {\n",
       "        vertical-align: middle;\n",
       "    }\n",
       "\n",
       "    .dataframe tbody tr th {\n",
       "        vertical-align: top;\n",
       "    }\n",
       "\n",
       "    .dataframe thead th {\n",
       "        text-align: right;\n",
       "    }\n",
       "</style>\n",
       "<table border=\"1\" class=\"dataframe\">\n",
       "  <thead>\n",
       "    <tr style=\"text-align: right;\">\n",
       "      <th></th>\n",
       "      <th>sexo</th>\n",
       "      <th>codigo</th>\n",
       "      <th>frecuencia</th>\n",
       "    </tr>\n",
       "  </thead>\n",
       "  <tbody>\n",
       "    <tr>\n",
       "      <th>0</th>\n",
       "      <td>Masculino</td>\n",
       "      <td>0</td>\n",
       "      <td>5</td>\n",
       "    </tr>\n",
       "    <tr>\n",
       "      <th>1</th>\n",
       "      <td>Femenino</td>\n",
       "      <td>1</td>\n",
       "      <td>6</td>\n",
       "    </tr>\n",
       "    <tr>\n",
       "      <th>2</th>\n",
       "      <td>Otro</td>\n",
       "      <td>2</td>\n",
       "      <td>2</td>\n",
       "    </tr>\n",
       "  </tbody>\n",
       "</table>\n",
       "</div>"
      ],
      "text/plain": [
       "        sexo  codigo  frecuencia\n",
       "0  Masculino       0           5\n",
       "1   Femenino       1           6\n",
       "2       Otro       2           2"
      ]
     },
     "execution_count": 41,
     "metadata": {},
     "output_type": "execute_result"
    }
   ],
   "source": [
    "import pandas as pd\n",
    "# Columnas: features\n",
    "data_0 = {'sexo': ['Masculino','Femenino','Otro'], 'codigo': [0,1,2], 'frecuencia': [5,6,2]}\n",
    "pd_0 = pd.DataFrame(data=data_0)\n",
    "pd_0"
   ]
  },
  {
   "cell_type": "markdown",
   "id": "3916f480",
   "metadata": {},
   "source": [
    "**Nota** Recomiendo fuertemente realizar los ejemplos con python porque nos será util a medida que avancemos con el curso y con cursos posteriores.\n",
    "\n",
    "Por otra parte, si quisieramos visualizar los datos correspondientes a los empleados de cierta empresa:"
   ]
  },
  {
   "cell_type": "markdown",
   "id": "6b639fa5",
   "metadata": {},
   "source": [
    "Como vemos, podemos trabajar con información simple (como vimos recién) o con un gran volumen de filas y features como lo es el dataset de Titanic que provee la libreria scikit lean"
   ]
  },
  {
   "cell_type": "code",
   "execution_count": 27,
   "id": "22d199e6",
   "metadata": {},
   "outputs": [
    {
     "data": {
      "text/html": [
       "<div>\n",
       "<style scoped>\n",
       "    .dataframe tbody tr th:only-of-type {\n",
       "        vertical-align: middle;\n",
       "    }\n",
       "\n",
       "    .dataframe tbody tr th {\n",
       "        vertical-align: top;\n",
       "    }\n",
       "\n",
       "    .dataframe thead th {\n",
       "        text-align: right;\n",
       "    }\n",
       "</style>\n",
       "<table border=\"1\" class=\"dataframe\">\n",
       "  <thead>\n",
       "    <tr style=\"text-align: right;\">\n",
       "      <th></th>\n",
       "      <th>pclass</th>\n",
       "      <th>name</th>\n",
       "      <th>sex</th>\n",
       "      <th>age</th>\n",
       "      <th>sibsp</th>\n",
       "      <th>parch</th>\n",
       "      <th>ticket</th>\n",
       "      <th>fare</th>\n",
       "      <th>cabin</th>\n",
       "      <th>embarked</th>\n",
       "      <th>boat</th>\n",
       "      <th>body</th>\n",
       "      <th>home.dest</th>\n",
       "    </tr>\n",
       "  </thead>\n",
       "  <tbody>\n",
       "    <tr>\n",
       "      <th>0</th>\n",
       "      <td>1.0</td>\n",
       "      <td>Allen, Miss. Elisabeth Walton</td>\n",
       "      <td>female</td>\n",
       "      <td>29.0000</td>\n",
       "      <td>0.0</td>\n",
       "      <td>0.0</td>\n",
       "      <td>24160</td>\n",
       "      <td>211.3375</td>\n",
       "      <td>B5</td>\n",
       "      <td>S</td>\n",
       "      <td>2</td>\n",
       "      <td>NaN</td>\n",
       "      <td>St Louis, MO</td>\n",
       "    </tr>\n",
       "    <tr>\n",
       "      <th>1</th>\n",
       "      <td>1.0</td>\n",
       "      <td>Allison, Master. Hudson Trevor</td>\n",
       "      <td>male</td>\n",
       "      <td>0.9167</td>\n",
       "      <td>1.0</td>\n",
       "      <td>2.0</td>\n",
       "      <td>113781</td>\n",
       "      <td>151.5500</td>\n",
       "      <td>C22 C26</td>\n",
       "      <td>S</td>\n",
       "      <td>11</td>\n",
       "      <td>NaN</td>\n",
       "      <td>Montreal, PQ / Chesterville, ON</td>\n",
       "    </tr>\n",
       "    <tr>\n",
       "      <th>2</th>\n",
       "      <td>1.0</td>\n",
       "      <td>Allison, Miss. Helen Loraine</td>\n",
       "      <td>female</td>\n",
       "      <td>2.0000</td>\n",
       "      <td>1.0</td>\n",
       "      <td>2.0</td>\n",
       "      <td>113781</td>\n",
       "      <td>151.5500</td>\n",
       "      <td>C22 C26</td>\n",
       "      <td>S</td>\n",
       "      <td>None</td>\n",
       "      <td>NaN</td>\n",
       "      <td>Montreal, PQ / Chesterville, ON</td>\n",
       "    </tr>\n",
       "    <tr>\n",
       "      <th>3</th>\n",
       "      <td>1.0</td>\n",
       "      <td>Allison, Mr. Hudson Joshua Creighton</td>\n",
       "      <td>male</td>\n",
       "      <td>30.0000</td>\n",
       "      <td>1.0</td>\n",
       "      <td>2.0</td>\n",
       "      <td>113781</td>\n",
       "      <td>151.5500</td>\n",
       "      <td>C22 C26</td>\n",
       "      <td>S</td>\n",
       "      <td>None</td>\n",
       "      <td>135.0</td>\n",
       "      <td>Montreal, PQ / Chesterville, ON</td>\n",
       "    </tr>\n",
       "    <tr>\n",
       "      <th>4</th>\n",
       "      <td>1.0</td>\n",
       "      <td>Allison, Mrs. Hudson J C (Bessie Waldo Daniels)</td>\n",
       "      <td>female</td>\n",
       "      <td>25.0000</td>\n",
       "      <td>1.0</td>\n",
       "      <td>2.0</td>\n",
       "      <td>113781</td>\n",
       "      <td>151.5500</td>\n",
       "      <td>C22 C26</td>\n",
       "      <td>S</td>\n",
       "      <td>None</td>\n",
       "      <td>NaN</td>\n",
       "      <td>Montreal, PQ / Chesterville, ON</td>\n",
       "    </tr>\n",
       "    <tr>\n",
       "      <th>...</th>\n",
       "      <td>...</td>\n",
       "      <td>...</td>\n",
       "      <td>...</td>\n",
       "      <td>...</td>\n",
       "      <td>...</td>\n",
       "      <td>...</td>\n",
       "      <td>...</td>\n",
       "      <td>...</td>\n",
       "      <td>...</td>\n",
       "      <td>...</td>\n",
       "      <td>...</td>\n",
       "      <td>...</td>\n",
       "      <td>...</td>\n",
       "    </tr>\n",
       "    <tr>\n",
       "      <th>1304</th>\n",
       "      <td>3.0</td>\n",
       "      <td>Zabour, Miss. Hileni</td>\n",
       "      <td>female</td>\n",
       "      <td>14.5000</td>\n",
       "      <td>1.0</td>\n",
       "      <td>0.0</td>\n",
       "      <td>2665</td>\n",
       "      <td>14.4542</td>\n",
       "      <td>None</td>\n",
       "      <td>C</td>\n",
       "      <td>None</td>\n",
       "      <td>328.0</td>\n",
       "      <td>None</td>\n",
       "    </tr>\n",
       "    <tr>\n",
       "      <th>1305</th>\n",
       "      <td>3.0</td>\n",
       "      <td>Zabour, Miss. Thamine</td>\n",
       "      <td>female</td>\n",
       "      <td>NaN</td>\n",
       "      <td>1.0</td>\n",
       "      <td>0.0</td>\n",
       "      <td>2665</td>\n",
       "      <td>14.4542</td>\n",
       "      <td>None</td>\n",
       "      <td>C</td>\n",
       "      <td>None</td>\n",
       "      <td>NaN</td>\n",
       "      <td>None</td>\n",
       "    </tr>\n",
       "    <tr>\n",
       "      <th>1306</th>\n",
       "      <td>3.0</td>\n",
       "      <td>Zakarian, Mr. Mapriededer</td>\n",
       "      <td>male</td>\n",
       "      <td>26.5000</td>\n",
       "      <td>0.0</td>\n",
       "      <td>0.0</td>\n",
       "      <td>2656</td>\n",
       "      <td>7.2250</td>\n",
       "      <td>None</td>\n",
       "      <td>C</td>\n",
       "      <td>None</td>\n",
       "      <td>304.0</td>\n",
       "      <td>None</td>\n",
       "    </tr>\n",
       "    <tr>\n",
       "      <th>1307</th>\n",
       "      <td>3.0</td>\n",
       "      <td>Zakarian, Mr. Ortin</td>\n",
       "      <td>male</td>\n",
       "      <td>27.0000</td>\n",
       "      <td>0.0</td>\n",
       "      <td>0.0</td>\n",
       "      <td>2670</td>\n",
       "      <td>7.2250</td>\n",
       "      <td>None</td>\n",
       "      <td>C</td>\n",
       "      <td>None</td>\n",
       "      <td>NaN</td>\n",
       "      <td>None</td>\n",
       "    </tr>\n",
       "    <tr>\n",
       "      <th>1308</th>\n",
       "      <td>3.0</td>\n",
       "      <td>Zimmerman, Mr. Leo</td>\n",
       "      <td>male</td>\n",
       "      <td>29.0000</td>\n",
       "      <td>0.0</td>\n",
       "      <td>0.0</td>\n",
       "      <td>315082</td>\n",
       "      <td>7.8750</td>\n",
       "      <td>None</td>\n",
       "      <td>S</td>\n",
       "      <td>None</td>\n",
       "      <td>NaN</td>\n",
       "      <td>None</td>\n",
       "    </tr>\n",
       "  </tbody>\n",
       "</table>\n",
       "<p>1309 rows × 13 columns</p>\n",
       "</div>"
      ],
      "text/plain": [
       "      pclass                                             name     sex  \\\n",
       "0        1.0                    Allen, Miss. Elisabeth Walton  female   \n",
       "1        1.0                   Allison, Master. Hudson Trevor    male   \n",
       "2        1.0                     Allison, Miss. Helen Loraine  female   \n",
       "3        1.0             Allison, Mr. Hudson Joshua Creighton    male   \n",
       "4        1.0  Allison, Mrs. Hudson J C (Bessie Waldo Daniels)  female   \n",
       "...      ...                                              ...     ...   \n",
       "1304     3.0                             Zabour, Miss. Hileni  female   \n",
       "1305     3.0                            Zabour, Miss. Thamine  female   \n",
       "1306     3.0                        Zakarian, Mr. Mapriededer    male   \n",
       "1307     3.0                              Zakarian, Mr. Ortin    male   \n",
       "1308     3.0                               Zimmerman, Mr. Leo    male   \n",
       "\n",
       "          age  sibsp  parch  ticket      fare    cabin embarked  boat   body  \\\n",
       "0     29.0000    0.0    0.0   24160  211.3375       B5        S     2    NaN   \n",
       "1      0.9167    1.0    2.0  113781  151.5500  C22 C26        S    11    NaN   \n",
       "2      2.0000    1.0    2.0  113781  151.5500  C22 C26        S  None    NaN   \n",
       "3     30.0000    1.0    2.0  113781  151.5500  C22 C26        S  None  135.0   \n",
       "4     25.0000    1.0    2.0  113781  151.5500  C22 C26        S  None    NaN   \n",
       "...       ...    ...    ...     ...       ...      ...      ...   ...    ...   \n",
       "1304  14.5000    1.0    0.0    2665   14.4542     None        C  None  328.0   \n",
       "1305      NaN    1.0    0.0    2665   14.4542     None        C  None    NaN   \n",
       "1306  26.5000    0.0    0.0    2656    7.2250     None        C  None  304.0   \n",
       "1307  27.0000    0.0    0.0    2670    7.2250     None        C  None    NaN   \n",
       "1308  29.0000    0.0    0.0  315082    7.8750     None        S  None    NaN   \n",
       "\n",
       "                            home.dest  \n",
       "0                        St Louis, MO  \n",
       "1     Montreal, PQ / Chesterville, ON  \n",
       "2     Montreal, PQ / Chesterville, ON  \n",
       "3     Montreal, PQ / Chesterville, ON  \n",
       "4     Montreal, PQ / Chesterville, ON  \n",
       "...                               ...  \n",
       "1304                             None  \n",
       "1305                             None  \n",
       "1306                             None  \n",
       "1307                             None  \n",
       "1308                             None  \n",
       "\n",
       "[1309 rows x 13 columns]"
      ]
     },
     "execution_count": 27,
     "metadata": {},
     "output_type": "execute_result"
    }
   ],
   "source": [
    "from sklearn.datasets import fetch_openml\n",
    "titanic = fetch_openml('titanic', version=1, as_frame=True)\n",
    "titanic_df = pd.DataFrame(data=titanic['data'])\n",
    "titanic_df"
   ]
  },
  {
   "cell_type": "markdown",
   "id": "6eae8bd5",
   "metadata": {},
   "source": [
    "## Gráficos Lineales\n",
    "\n",
    "Se utiliza por lo general para representar valores de dos variables cuantitativas utilizando coordenadas cartesianas. También es útil para graficar una variable categorica respecto a una variable cuantitativa continua como es el siguiente caso: Días vs Temperatura.\n",
    "**Quizá estos sean los más intuitivos si alguna vez estudiamos conceptos de calculo y funciones**"
   ]
  },
  {
   "cell_type": "code",
   "execution_count": 13,
   "id": "2aa96a6a",
   "metadata": {},
   "outputs": [
    {
     "data": {
      "text/plain": [
       "[<matplotlib.lines.Line2D at 0x12f6a0ee0>]"
      ]
     },
     "execution_count": 13,
     "metadata": {},
     "output_type": "execute_result"
    },
    {
     "data": {
      "image/png": "[encoded data removed]",
      "text/plain": [
       "<Figure size 640x480 with 1 Axes>"
      ]
     },
     "metadata": {},
     "output_type": "display_data"
    }
   ],
   "source": [
    "import matplotlib.pyplot as plt\n",
    "\n",
    "fig, ax = plt.subplots()\n",
    "dias = [\"L\",\"M\",\"M\",\"J\",\"V\",\"S\",\"D\"]\n",
    "temperaturas = {'BsAs': [28.5,30.5,31,30,28,27.5,30.5],'SantiagoDelEstero': [35,36,38,49,47,42,31]}\n",
    "ax.plot(dias,temperaturas['BsAs'],color='tab:purple', label='Buenos Aires', marker=\"^\")\n",
    "ax.plot(dias,temperaturas['SantiagoDelEstero'],color='tab:green', marker='*',label='SantiagoDelEstero')"
   ]
  },
  {
   "cell_type": "markdown",
   "id": "fd5ee167",
   "metadata": {},
   "source": [
    "## Gráfico de barras\n",
    "Se utiliza por lo general cuando una de las variables es cualitativa. Por ejemplo, podríamos haber expresado las temperaturas para una determinada ubicación siguiendo un gráfico de barras:\n"
   ]
  },
  {
   "cell_type": "code",
   "execution_count": 23,
   "id": "6cd3de83",
   "metadata": {},
   "outputs": [
    {
     "data": {
      "text/plain": [
       "<matplotlib.legend.Legend at 0x13132a2c0>"
      ]
     },
     "execution_count": 23,
     "metadata": {},
     "output_type": "execute_result"
    },
    {
     "data": {
      "image/png": "[encoded data removed]",
      "text/plain": [
       "<Figure size 640x480 with 1 Axes>"
      ]
     },
     "metadata": {},
     "output_type": "display_data"
    }
   ],
   "source": [
    "fig_2, ax_2 = plt.subplots()\n",
    "ax_2.bar(dias,temperaturas['SantiagoDelEstero'],label=\"Santiago del estero\", color='green')\n",
    "ax_2.bar(dias,temperaturas['BsAs'],label=\"BuenosAires\",color='purple')\n",
    "plt.legend(loc='best')"
   ]
  },
  {
   "cell_type": "markdown",
   "id": "27014b1d",
   "metadata": {},
   "source": [
    "## Distribucion de frecuencias\n",
    "\n",
    "A la relación que hace corresponder a los valores de una variable, la cantidad de veces que estos aparecen se denomina **distribución de frecuencias** y, como vimos, se las representa mediante una tabla.\n",
    "\n",
    "Como veremos, el eje \"y\" corresponderá a las frecuencias y, el eje x, corresponderá a la variable\n",
    "\n",
    "**Importante:**\n",
    "> - Las columnas se colocan sobre una etiqueta que representa una variable categórica.\n",
    "> - La altura de la columna indica el tamaño del grupo definido por las categorías.\n",
    "\n"
   ]
  },
  {
   "cell_type": "code",
   "execution_count": 43,
   "id": "bc038904",
   "metadata": {},
   "outputs": [
    {
     "data": {
      "image/png": "[encoded data removed]",
      "text/plain": [
       "<Figure size 640x480 with 1 Axes>"
      ]
     },
     "metadata": {},
     "output_type": "display_data"
    }
   ],
   "source": [
    "fig_3, ax_3 = plt.subplots()\n",
    "sexos = data_0['sexo']\n",
    "frecuencias = data_0['frecuencia']\n",
    "ax_3.bar(sexos,frecuencias, color='purple') \n",
    "plt.show()"
   ]
  },
  {
   "cell_type": "markdown",
   "id": "c4dba6c7",
   "metadata": {},
   "source": [
    "## Histogramas\n",
    "\n",
    "Un histograma es la representación gráfica en forma de barras, que simboliza la distribución de un conjunto de datos. Sirven para obtener una \"primera vista\" general, o panorama, de la distribución de la población, o de la muestra, respecto a una característica, **cuantitativa y continua.**\n",
    "\n",
    "> - Las columnas se colocan sobre una etiqueta que representa una variable cuantitativa."
   ]
  },
  {
   "cell_type": "markdown",
   "id": "398956dc",
   "metadata": {},
   "source": [
    "### ¿Por qué utilizar gráficos?\n",
    "- Facilita el análisis de datos\n",
    "- Simplifica estadísticas e ideas complicadas.\n",
    "- Mejora la comunicación efectiva de la información."
   ]
  },
  {
   "cell_type": "markdown",
   "id": "495d13dc",
   "metadata": {},
   "source": [
    "### Medidas de tendencia central\n",
    "\n",
    "#### Media aritmética:\n",
    "\n",
    "También llamada promedio o simplemente media, se obtiene con la suma de un conjunto de valores dividida entre el número total elementos\n",
    "\n",
    "Ej: Supongamos al conjunto: {1,2,7,9}\n",
    "Media = (1+2+7+9) / 4 = 4.75"
   ]
  },
  {
   "cell_type": "markdown",
   "id": "4fb01de0",
   "metadata": {},
   "source": [
    "A = {1,2,7,9} = (1+2+7+9) / 4 = 4.75"
   ]
  },
  {
   "cell_type": "code",
   "execution_count": 31,
   "id": "f9cefd24",
   "metadata": {},
   "outputs": [
    {
     "data": {
      "text/html": [
       "<div>\n",
       "<style scoped>\n",
       "    .dataframe tbody tr th:only-of-type {\n",
       "        vertical-align: middle;\n",
       "    }\n",
       "\n",
       "    .dataframe tbody tr th {\n",
       "        vertical-align: top;\n",
       "    }\n",
       "\n",
       "    .dataframe thead th {\n",
       "        text-align: right;\n",
       "    }\n",
       "</style>\n",
       "<table border=\"1\" class=\"dataframe\">\n",
       "  <thead>\n",
       "    <tr style=\"text-align: right;\">\n",
       "      <th></th>\n",
       "      <th>Country</th>\n",
       "      <th>Gold Medal</th>\n",
       "      <th>Silver Medal</th>\n",
       "      <th>Bronze Medal</th>\n",
       "      <th>Total</th>\n",
       "      <th>Rank By Total</th>\n",
       "    </tr>\n",
       "  </thead>\n",
       "  <tbody>\n",
       "    <tr>\n",
       "      <th>0</th>\n",
       "      <td>United States of America</td>\n",
       "      <td>39</td>\n",
       "      <td>41</td>\n",
       "      <td>33</td>\n",
       "      <td>113</td>\n",
       "      <td>1</td>\n",
       "    </tr>\n",
       "    <tr>\n",
       "      <th>1</th>\n",
       "      <td>People's Republic of China</td>\n",
       "      <td>38</td>\n",
       "      <td>32</td>\n",
       "      <td>18</td>\n",
       "      <td>88</td>\n",
       "      <td>2</td>\n",
       "    </tr>\n",
       "    <tr>\n",
       "      <th>2</th>\n",
       "      <td>Japan</td>\n",
       "      <td>27</td>\n",
       "      <td>14</td>\n",
       "      <td>17</td>\n",
       "      <td>58</td>\n",
       "      <td>5</td>\n",
       "    </tr>\n",
       "    <tr>\n",
       "      <th>3</th>\n",
       "      <td>Great Britain</td>\n",
       "      <td>22</td>\n",
       "      <td>21</td>\n",
       "      <td>22</td>\n",
       "      <td>65</td>\n",
       "      <td>4</td>\n",
       "    </tr>\n",
       "    <tr>\n",
       "      <th>4</th>\n",
       "      <td>ROC</td>\n",
       "      <td>20</td>\n",
       "      <td>28</td>\n",
       "      <td>23</td>\n",
       "      <td>71</td>\n",
       "      <td>3</td>\n",
       "    </tr>\n",
       "    <tr>\n",
       "      <th>...</th>\n",
       "      <td>...</td>\n",
       "      <td>...</td>\n",
       "      <td>...</td>\n",
       "      <td>...</td>\n",
       "      <td>...</td>\n",
       "      <td>...</td>\n",
       "    </tr>\n",
       "    <tr>\n",
       "      <th>88</th>\n",
       "      <td>Ghana</td>\n",
       "      <td>0</td>\n",
       "      <td>0</td>\n",
       "      <td>1</td>\n",
       "      <td>1</td>\n",
       "      <td>77</td>\n",
       "    </tr>\n",
       "    <tr>\n",
       "      <th>89</th>\n",
       "      <td>Grenada</td>\n",
       "      <td>0</td>\n",
       "      <td>0</td>\n",
       "      <td>1</td>\n",
       "      <td>1</td>\n",
       "      <td>77</td>\n",
       "    </tr>\n",
       "    <tr>\n",
       "      <th>90</th>\n",
       "      <td>Kuwait</td>\n",
       "      <td>0</td>\n",
       "      <td>0</td>\n",
       "      <td>1</td>\n",
       "      <td>1</td>\n",
       "      <td>77</td>\n",
       "    </tr>\n",
       "    <tr>\n",
       "      <th>91</th>\n",
       "      <td>Republic of Moldova</td>\n",
       "      <td>0</td>\n",
       "      <td>0</td>\n",
       "      <td>1</td>\n",
       "      <td>1</td>\n",
       "      <td>77</td>\n",
       "    </tr>\n",
       "    <tr>\n",
       "      <th>92</th>\n",
       "      <td>Syrian Arab Republic</td>\n",
       "      <td>0</td>\n",
       "      <td>0</td>\n",
       "      <td>1</td>\n",
       "      <td>1</td>\n",
       "      <td>77</td>\n",
       "    </tr>\n",
       "  </tbody>\n",
       "</table>\n",
       "<p>93 rows × 6 columns</p>\n",
       "</div>"
      ],
      "text/plain": [
       "                       Country  Gold Medal  Silver Medal  Bronze Medal  Total  \\\n",
       "0     United States of America          39            41            33    113   \n",
       "1   People's Republic of China          38            32            18     88   \n",
       "2                        Japan          27            14            17     58   \n",
       "3                Great Britain          22            21            22     65   \n",
       "4                          ROC          20            28            23     71   \n",
       "..                         ...         ...           ...           ...    ...   \n",
       "88                       Ghana           0             0             1      1   \n",
       "89                     Grenada           0             0             1      1   \n",
       "90                      Kuwait           0             0             1      1   \n",
       "91         Republic of Moldova           0             0             1      1   \n",
       "92        Syrian Arab Republic           0             0             1      1   \n",
       "\n",
       "    Rank By Total  \n",
       "0               1  \n",
       "1               2  \n",
       "2               5  \n",
       "3               4  \n",
       "4               3  \n",
       "..            ...  \n",
       "88             77  \n",
       "89             77  \n",
       "90             77  \n",
       "91             77  \n",
       "92             77  \n",
       "\n",
       "[93 rows x 6 columns]"
      ]
     },
     "execution_count": 31,
     "metadata": {},
     "output_type": "execute_result"
    }
   ],
   "source": [
    "medals = pd.read_csv('files/medals.csv')\n",
    "medals"
   ]
  },
  {
   "cell_type": "code",
   "execution_count": 44,
   "id": "86341a3c",
   "metadata": {},
   "outputs": [
    {
     "name": "stdout",
     "output_type": "stream",
     "text": [
      "11.612903225806452\n"
     ]
    }
   ],
   "source": [
    "mean = medals['Total'].mean()\n",
    "print(mean)"
   ]
  },
  {
   "cell_type": "markdown",
   "id": "da503589",
   "metadata": {},
   "source": [
    "#### Media ponderada\n",
    "\n",
    "La media ponderada es una medida de tendencia central, que es apropiada cuando en un conjunto de datos cada uno de ellos tiene una importancia relativa (o peso) respecto de los demás datos. Se obtiene multiplicando cada uno de los datos por su ponderación (peso) para luego sumarlos, obteniendo así una suma ponderada; después se divide esta entre la suma de los pesos, dando como resultado la media ponderada.1"
   ]
  },
  {
   "cell_type": "markdown",
   "id": "c80b250f",
   "metadata": {},
   "source": [
    "#### Mediana\n",
    "\n",
    "La mediana representa el valor de la variable de posición central en un conjunto de datos **ordenados**. En caso que los datos sean pares, la mediana aritmética es el promedio de los valores centrales\n",
    "\n",
    "Ejemplo: {7,7,10,12,13}\n",
    "En este caso, **la mediana es 10**\n",
    "\n",
    "B = {7,7,10,12,13,10000} = (10 + 12) / 2"
   ]
  },
  {
   "cell_type": "code",
   "execution_count": 36,
   "id": "8c0794f7",
   "metadata": {},
   "outputs": [
    {
     "name": "stdout",
     "output_type": "stream",
     "text": [
      "La mediana del set de medalles es:  4.0\n"
     ]
    }
   ],
   "source": [
    "print(\"La mediana del set de medalles es: \", medals['Total'].median())"
   ]
  },
  {
   "cell_type": "markdown",
   "id": "1c625d96",
   "metadata": {},
   "source": [
    "#### Media recortada\n",
    "\n",
    "Una media recortada (a veces llamada media truncada) es similar, pero recorta los valores atípicos . Los valores atípicos pueden afectar la media (especialmente si solo hay uno o dos valores muy grandes), por lo que una media recortada a menudo puede ser más adecuada para conjuntos de datos con valores altos o bajos erráticos."
   ]
  },
  {
   "cell_type": "code",
   "execution_count": 40,
   "id": "920db708",
   "metadata": {},
   "outputs": [
    {
     "name": "stdout",
     "output_type": "stream",
     "text": [
      "La media del set de medalles recortada en un 10%:  6.8933333333333335\n"
     ]
    }
   ],
   "source": [
    "from scipy.stats import trim_mean\n",
    "print(\"La media del set de medalles recortada en un 10%: \", trim_mean(medals['Total'],0.1))"
   ]
  },
  {
   "cell_type": "markdown",
   "id": "7d5e4131",
   "metadata": {},
   "source": [
    "### Moda\n",
    "\n",
    "#### Moda\n",
    "\n",
    "La moda es el valor que aparece con mayor frecuencia en un conjunto de datos. Tener en cuenta que un conjunto de datos puede ser **unimodal, bimodal, polimodal** en este caso, no tienen porque estar odenados los datos\n",
    "\n",
    "\n",
    "A = {1,1,1,1,1,1,100} = 1\n",
    "B = {1,2} = {1,2} = {1,2} bimodal"
   ]
  }
 ],
 "metadata": {
  "kernelspec": {
   "display_name": "Python 3 (ipykernel)",
   "language": "python",
   "name": "python3"
  },
  "language_info": {
   "codemirror_mode": {
    "name": "ipython",
    "version": 3
   },
   "file_extension": ".py",
   "mimetype": "text/x-python",
   "name": "python",
   "nbconvert_exporter": "python",
   "pygments_lexer": "ipython3",
   "version": "3.10.6"
  }
 },
 "nbformat": 4,
 "nbformat_minor": 5
}
